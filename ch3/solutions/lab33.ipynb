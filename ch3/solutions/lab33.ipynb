{
 "cells": [
  {
   "cell_type": "markdown",
   "metadata": {},
   "source": [
    "# Lab 3.3: Code analysis with GitHub Copilot"
   ]
  },
  {
   "cell_type": "code",
   "execution_count": null,
   "metadata": {},
   "outputs": [],
   "source": [
    "def get_geometric_mean_for_three_numbers(a, b, c): \n",
    "    return (a*b*c)**(1/3)"
   ]
  },
  {
   "cell_type": "code",
   "execution_count": null,
   "metadata": {},
   "outputs": [],
   "source": [
    "from functools import reduce  \n",
    "\n",
    "\n",
    "def get_geometric_mean(*nums: float) -> float: \n",
    "    \"\"\" \n",
    "    Get the geometric mean of a sequence of numbers  \n",
    "    \"\"\" \n",
    "\n",
    "    if not len(nums):  \n",
    "        raise ValueError(\"Cannot calculate the geometric mean of an empty sequence\") \n",
    "\n",
    "    product = reduce(lambda a, b: a * b, nums) \n",
    "    if product < 0 and len(nums) % 2 == 0: \n",
    "        raise ValueError(\"Cannot calculate the geometric mean\") \n",
    "\n",
    "    return pow(product, 1 / len(nums)) "
   ]
  }
 ],
 "metadata": {
  "language_info": {
   "name": "python"
  }
 },
 "nbformat": 4,
 "nbformat_minor": 2
}
